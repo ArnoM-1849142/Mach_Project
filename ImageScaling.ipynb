{
 "cells": [
  {
   "cell_type": "code",
   "execution_count": 1,
   "id": "236726a7",
   "metadata": {},
   "outputs": [],
   "source": [
    "import numpy as np\n",
    "import cv2"
   ]
  },
  {
   "cell_type": "code",
   "execution_count": null,
   "id": "1fa4d77a",
   "metadata": {},
   "outputs": [],
   "source": [
    "alpha = ['A','B','C','D','E']\n",
    "alpha2 = ['A','B','C','D','E','F','G','H','I','J','K','L','M']\n",
    "\n",
    "width = 50\n",
    "height = 50\n",
    "print( 'Resized Dimensions : ' + str(width) + 'x' + str(height) ) \n",
    "\n",
    "for a in range(len(alpha2)):\n",
    "    for b in range(len(alpha)):\n",
    "        for c in range(len(alpha)):\n",
    "            for d in range(len(alpha)):        \n",
    "                for i in range(4):\n",
    "                    img = cv2.imread('../dataset/train_coded/train_coded/' + alpha2[a] + alpha[b] + alpha[c]+ alpha[d] + str(i+1) +'.jpg', 1)\n",
    "                    #cv2.imshow('Original', img)\n",
    "                    #print('Original Dimensions : ', img.shape)\n",
    "\n",
    "                    resized_img = cv2.resize(img, (50,50), interpolation = cv2.INTER_AREA)\n",
    "\n",
    "                   # cv2.imshow(\"Resized image\", resized)\n",
    "                   # cv2.waitKey(0)\n",
    "                   # cv2.destroyAllWindows()\n",
    "\n",
    "                    filename = alpha2[a] + alpha[b] + alpha[c]+ alpha[d] + str(i+1) +'.jpg'\n",
    "                    print('filename: ', filename)\n",
    "\n",
    "\n",
    "                    cv2.imwrite(filename, resized_img)\n",
    "                    "
   ]
  }
 ],
 "metadata": {
  "kernelspec": {
   "display_name": "Python 3",
   "language": "python",
   "name": "python3"
  },
  "language_info": {
   "codemirror_mode": {
    "name": "ipython",
    "version": 3
   },
   "file_extension": ".py",
   "mimetype": "text/x-python",
   "name": "python",
   "nbconvert_exporter": "python",
   "pygments_lexer": "ipython3",
   "version": "3.8.8"
  }
 },
 "nbformat": 4,
 "nbformat_minor": 5
}
