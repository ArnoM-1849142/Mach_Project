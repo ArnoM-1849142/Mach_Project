{
 "cells": [
  {
   "cell_type": "markdown",
   "id": "d647d677",
   "metadata": {},
   "source": [
    "# Machine learning project  \n",
    "\n",
    "## Introduction\n",
    "\n",
    "In this project, an implementation of the backpropagation algorithm for neural networks is made and applied to the task of micro_PCB recognition. This project is made for the machine learning course [`Machine learning`](https://uhintra03.uhasselt.be/studiegidswww/opleidingsonderdeel.aspx?a=2021&i=4483&n=4&t=04) given at the joint training of kuleuven and uhasselt. The authors of this project are Molenaers Arno and Purnal Lennert.\n",
    "\n",
    "\n",
    "The libraries that need to be imported for this project are the following:\n",
    "- [`numpy`](http://www.numpy.org/) for all arrays and matrix operations.\n",
    "- [`matplotlib`](https://matplotlib.org/) for plotting.\n",
    "- [`scipy`](https://docs.scipy.org/doc/scipy/reference/) for scientific and numerical computation functions and tools. "
   ]
  },
  {
   "cell_type": "code",
   "execution_count": 6,
   "id": "2928cc64",
   "metadata": {},
   "outputs": [],
   "source": [
    "# used for manipulating directory paths\n",
    "import os\n",
    "\n",
    "# Scientific and vector computation for python\n",
    "import numpy as np\n",
    "\n",
    "# Plotting library\n",
    "from matplotlib import pyplot\n",
    "\n",
    "# Optimization module in scipy\n",
    "from scipy import optimize\n",
    "\n",
    "# will be used to load MATLAB mat datafile format\n",
    "from scipy.io import loadmat\n",
    "\n",
    "# library written for this exercise providing additional functions for assignment submission, and others\n",
    "import utils\n",
    "\n",
    "# tells matplotlib to embed plots within the notebook\n",
    "%matplotlib inline"
   ]
  },
  {
   "cell_type": "markdown",
   "id": "54cbd9bf",
   "metadata": {},
   "source": [
    "## loading the dataset\n",
    "\n",
    "First the training data will be loaded, this is the training data found on kaggle: [`micro-PCB image`](https://www.kaggle.com/frettapper/micropcb-images). This dataset has 2 subfolders test_coded and train_coded where the dataset is already split with 6.500 PCB images for the training data and 1.625 for the test data. However the average size of all these images is 1949×2126 (width×height) which is high and so will cause the program to take a long time to run. A script has been written for this called ImageScaling where all images in the dataset are rescaled to the desired resolution for the images.\n",
    "\n"
   ]
  },
  {
   "cell_type": "code",
   "execution_count": null,
   "id": "2781ff93",
   "metadata": {},
   "outputs": [],
   "source": []
  }
 ],
 "metadata": {
  "kernelspec": {
   "display_name": "Python 3",
   "language": "python",
   "name": "python3"
  },
  "language_info": {
   "codemirror_mode": {
    "name": "ipython",
    "version": 3
   },
   "file_extension": ".py",
   "mimetype": "text/x-python",
   "name": "python",
   "nbconvert_exporter": "python",
   "pygments_lexer": "ipython3",
   "version": "3.8.8"
  }
 },
 "nbformat": 4,
 "nbformat_minor": 5
}
