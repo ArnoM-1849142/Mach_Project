{
 "cells": [
  {
   "cell_type": "markdown",
   "id": "49f07f61",
   "metadata": {},
   "source": [
    "# ImageScaling script:"
   ]
  },
  {
   "cell_type": "code",
   "execution_count": 1,
   "id": "236726a7",
   "metadata": {},
   "outputs": [],
   "source": [
    "import numpy as np\n",
    "import cv2"
   ]
  },
  {
   "cell_type": "code",
   "execution_count": 185,
   "id": "1fa4d77a",
   "metadata": {
    "scrolled": true
   },
   "outputs": [
    {
     "name": "stdout",
     "output_type": "stream",
     "text": [
      "Resized Dimensions : 50x50\n",
      "filename:  AAAA1.jpg\n",
      "filename:  AAAA2.jpg\n",
      "filename:  AAAA3.jpg\n",
      "filename:  AAAA4.jpg\n",
      "filename:  AAAB1.jpg\n",
      "filename:  AAAB2.jpg\n",
      "filename:  AAAB3.jpg\n",
      "filename:  AAAB4.jpg\n",
      "filename:  AAAC1.jpg\n",
      "filename:  AAAC2.jpg\n",
      "filename:  AAAC3.jpg\n",
      "filename:  AAAC4.jpg\n",
      "filename:  AAAD1.jpg\n",
      "filename:  AAAD2.jpg\n",
      "filename:  AAAD3.jpg\n",
      "filename:  AAAD4.jpg\n",
      "filename:  AAAE1.jpg\n",
      "filename:  AAAE2.jpg\n",
      "filename:  AAAE3.jpg\n",
      "filename:  AAAE4.jpg\n",
      "filename:  AABA1.jpg\n",
      "filename:  AABA2.jpg\n",
      "filename:  AABA3.jpg\n",
      "filename:  AABA4.jpg\n",
      "filename:  AABB1.jpg\n",
      "filename:  AABB2.jpg\n",
      "filename:  AABB3.jpg\n",
      "filename:  AABB4.jpg\n",
      "filename:  AABC1.jpg\n",
      "filename:  AABC2.jpg\n",
      "filename:  AABC3.jpg\n",
      "filename:  AABC4.jpg\n",
      "filename:  AABD1.jpg\n",
      "filename:  AABD2.jpg\n",
      "filename:  AABD3.jpg\n",
      "filename:  AABD4.jpg\n",
      "filename:  AABE1.jpg\n",
      "filename:  AABE2.jpg\n",
      "filename:  AABE3.jpg\n",
      "filename:  AABE4.jpg\n",
      "filename:  AACA1.jpg\n",
      "filename:  AACA2.jpg\n",
      "filename:  AACA3.jpg\n",
      "filename:  AACA4.jpg\n",
      "filename:  AACB1.jpg\n",
      "filename:  AACB2.jpg\n",
      "filename:  AACB3.jpg\n",
      "filename:  AACB4.jpg\n",
      "filename:  AACC1.jpg\n",
      "filename:  AACC2.jpg\n",
      "filename:  AACC3.jpg\n",
      "filename:  AACC4.jpg\n",
      "filename:  AACD1.jpg\n",
      "filename:  AACD2.jpg\n",
      "filename:  AACD3.jpg\n",
      "filename:  AACD4.jpg\n",
      "filename:  AACE1.jpg\n",
      "filename:  AACE2.jpg\n",
      "filename:  AACE3.jpg\n",
      "filename:  AACE4.jpg\n",
      "filename:  AADA1.jpg\n",
      "filename:  AADA2.jpg\n",
      "filename:  AADA3.jpg\n",
      "filename:  AADA4.jpg\n",
      "filename:  AADB1.jpg\n",
      "filename:  AADB2.jpg\n",
      "filename:  AADB3.jpg\n",
      "filename:  AADB4.jpg\n",
      "filename:  AADC1.jpg\n",
      "filename:  AADC2.jpg\n",
      "filename:  AADC3.jpg\n",
      "filename:  AADC4.jpg\n",
      "filename:  AADD1.jpg\n",
      "filename:  AADD2.jpg\n",
      "filename:  AADD3.jpg\n",
      "filename:  AADD4.jpg\n",
      "filename:  AADE1.jpg\n",
      "filename:  AADE2.jpg\n",
      "filename:  AADE3.jpg\n",
      "filename:  AADE4.jpg\n",
      "filename:  AAEA1.jpg\n",
      "filename:  AAEA2.jpg\n",
      "filename:  AAEA3.jpg\n"
     ]
    },
    {
     "ename": "KeyboardInterrupt",
     "evalue": "",
     "output_type": "error",
     "traceback": [
      "\u001b[1;31m---------------------------------------------------------------------------\u001b[0m",
      "\u001b[1;31mKeyboardInterrupt\u001b[0m                         Traceback (most recent call last)",
      "\u001b[1;32m<ipython-input-185-fde7d4e64a72>\u001b[0m in \u001b[0;36m<module>\u001b[1;34m\u001b[0m\n\u001b[0;32m     11\u001b[0m             \u001b[1;32mfor\u001b[0m \u001b[0md\u001b[0m \u001b[1;32min\u001b[0m \u001b[0mrange\u001b[0m\u001b[1;33m(\u001b[0m\u001b[0mlen\u001b[0m\u001b[1;33m(\u001b[0m\u001b[0malpha\u001b[0m\u001b[1;33m)\u001b[0m\u001b[1;33m)\u001b[0m\u001b[1;33m:\u001b[0m\u001b[1;33m\u001b[0m\u001b[1;33m\u001b[0m\u001b[0m\n\u001b[0;32m     12\u001b[0m                 \u001b[1;32mfor\u001b[0m \u001b[0mi\u001b[0m \u001b[1;32min\u001b[0m \u001b[0mrange\u001b[0m\u001b[1;33m(\u001b[0m\u001b[1;36m4\u001b[0m\u001b[1;33m)\u001b[0m\u001b[1;33m:\u001b[0m\u001b[1;33m\u001b[0m\u001b[1;33m\u001b[0m\u001b[0m\n\u001b[1;32m---> 13\u001b[1;33m                     \u001b[0mimg\u001b[0m \u001b[1;33m=\u001b[0m \u001b[0mcv2\u001b[0m\u001b[1;33m.\u001b[0m\u001b[0mimread\u001b[0m\u001b[1;33m(\u001b[0m\u001b[1;34m'../dataset/train_coded/train_coded/'\u001b[0m \u001b[1;33m+\u001b[0m \u001b[0malpha2\u001b[0m\u001b[1;33m[\u001b[0m\u001b[0ma\u001b[0m\u001b[1;33m]\u001b[0m \u001b[1;33m+\u001b[0m \u001b[0malpha\u001b[0m\u001b[1;33m[\u001b[0m\u001b[0mb\u001b[0m\u001b[1;33m]\u001b[0m \u001b[1;33m+\u001b[0m \u001b[0malpha\u001b[0m\u001b[1;33m[\u001b[0m\u001b[0mc\u001b[0m\u001b[1;33m]\u001b[0m\u001b[1;33m+\u001b[0m \u001b[0malpha\u001b[0m\u001b[1;33m[\u001b[0m\u001b[0md\u001b[0m\u001b[1;33m]\u001b[0m \u001b[1;33m+\u001b[0m \u001b[0mstr\u001b[0m\u001b[1;33m(\u001b[0m\u001b[0mi\u001b[0m\u001b[1;33m+\u001b[0m\u001b[1;36m1\u001b[0m\u001b[1;33m)\u001b[0m \u001b[1;33m+\u001b[0m\u001b[1;34m'.jpg'\u001b[0m\u001b[1;33m,\u001b[0m \u001b[1;36m1\u001b[0m\u001b[1;33m)\u001b[0m\u001b[1;33m\u001b[0m\u001b[1;33m\u001b[0m\u001b[0m\n\u001b[0m\u001b[0;32m     14\u001b[0m                     \u001b[1;31m#cv2.imshow('Original', img)\u001b[0m\u001b[1;33m\u001b[0m\u001b[1;33m\u001b[0m\u001b[1;33m\u001b[0m\u001b[0m\n\u001b[0;32m     15\u001b[0m                     \u001b[1;31m#print('Original Dimensions : ', img.shape)\u001b[0m\u001b[1;33m\u001b[0m\u001b[1;33m\u001b[0m\u001b[1;33m\u001b[0m\u001b[0m\n",
      "\u001b[1;31mKeyboardInterrupt\u001b[0m: "
     ]
    }
   ],
   "source": [
    "alpha = ['A','B','C','D','E']\n",
    "alpha2 = ['A','B','C','D','E','F','G','H','I','J','K','L','M']\n",
    "\n",
    "width = 50\n",
    "height = 50\n",
    "print( 'Resized Dimensions : ' + str(width) + 'x' + str(height) ) \n",
    "\n",
    "for a in range(len(alpha2)):\n",
    "    for b in range(len(alpha)):\n",
    "        for c in range(len(alpha)):\n",
    "            for d in range(len(alpha)):        \n",
    "                for i in range(4):\n",
    "                    img = cv2.imread('../dataset/train_coded/train_coded/' + alpha2[a] + alpha[b] + alpha[c]+ alpha[d] + str(i+1) +'.jpg', 1)\n",
    "                    #cv2.imshow('Original', img)\n",
    "                    #print('Original Dimensions : ', img.shape)\n",
    "\n",
    "                    resized_img = cv2.resize(img, (50,50), interpolation = cv2.INTER_AREA)\n",
    "\n",
    "                   # cv2.imshow(\"Resized image\", resized)\n",
    "                   # cv2.waitKey(0)\n",
    "                   # cv2.destroyAllWindows()\n",
    "\n",
    "                    filename = alpha2[a] + alpha[b] + alpha[c]+ alpha[d] + str(i+1) +'.jpg'\n",
    "                    print('filename: ', filename)\n",
    "\n",
    "\n",
    "                    cv2.imwrite(filename, resized_img)"
   ]
  },
  {
   "cell_type": "markdown",
   "id": "9dcde339",
   "metadata": {},
   "source": [
    "# Scaled image to matlabfile:\n",
    "In this part of the script, the image is being written to a matlab file: [`matlab_matrix.mat`]. The image is transfered to an array with dimension (50x50x3). These individual arrays are concatenated as one long array."
   ]
  },
  {
   "cell_type": "code",
   "execution_count": 71,
   "id": "916246c4",
   "metadata": {},
   "outputs": [],
   "source": [
    "from PIL import Image\n",
    "from scipy.io import savemat\n",
    "from scipy.io import loadmat\n",
    "import scipy.io as sio"
   ]
  },
  {
   "cell_type": "code",
   "execution_count": 171,
   "id": "7ddb52fd",
   "metadata": {
    "scrolled": true
   },
   "outputs": [],
   "source": [
    "arr4 = []\n",
    "\n",
    "for a in range(len(alpha2)):\n",
    "    for b in range(len(alpha)):\n",
    "        for c in range(len(alpha)):\n",
    "            for d in range(len(alpha)):       \n",
    "                for i in range(4):\n",
    "                    filename = alpha2[a] + alpha[b] + alpha[c]+ alpha[d] + str(i+1) +'.jpg'\n",
    "                    rescaled_img = Image.open(\"../dataset\\Scaled\\Train_coded/\"+str(filename))\n",
    "\n",
    "                    arr = np.array(rescaled_img)              # 50x50x3 array\n",
    "                    arr2 = np.concatenate(arr, axis =0)       # 2500x3  array\n",
    "                    arr3 = np.concatenate(arr2, axis =0)      # 7500    array\n",
    "\n",
    "                    arr4.append(arr3)\n",
    "\n",
    "\n",
    "mdic = {'Train_coded': arr4}\n",
    "savemat(\"matlab_matrix.mat\", mdic)"
   ]
  },
  {
   "cell_type": "markdown",
   "id": "4066b010",
   "metadata": {},
   "source": [
    "# Matlabfile array to usable array for RGB image:"
   ]
  },
  {
   "cell_type": "code",
   "execution_count": 174,
   "id": "bc3ead2f",
   "metadata": {},
   "outputs": [
    {
     "name": "stdout",
     "output_type": "stream",
     "text": [
      "{'__header__': b'MATLAB 5.0 MAT-file Platform: nt, Created on: Thu Nov 11 22:30:19 2021', '__version__': '1.0', '__globals__': [], 'Train_coded': array([[163, 165, 164, ..., 159, 159, 159],\n",
      "       [165, 165, 165, ..., 158, 158, 158],\n",
      "       [163, 165, 164, ..., 160, 160, 160],\n",
      "       ...,\n",
      "       [145, 145, 145, ..., 156, 157, 161],\n",
      "       [147, 146, 144, ..., 158, 158, 160],\n",
      "       [145, 145, 145, ..., 159, 158, 163]], dtype=uint8)}\n"
     ]
    }
   ],
   "source": [
    "mat_contents = sio.loadmat('matlab_matrix.mat')\n",
    "print(mat_contents)"
   ]
  },
  {
   "cell_type": "code",
   "execution_count": 175,
   "id": "732cad1e",
   "metadata": {},
   "outputs": [
    {
     "name": "stdout",
     "output_type": "stream",
     "text": [
      "163\n",
      "165\n",
      "164\n",
      "163\n",
      "165\n",
      "164\n",
      "162\n",
      "164\n",
      "163\n",
      "162\n"
     ]
    }
   ],
   "source": [
    "mat_contents['Train_coded']\n",
    "\n",
    "for i in range(10):\n",
    "    print(mat_contents['Train_coded'][0][i])"
   ]
  },
  {
   "cell_type": "code",
   "execution_count": 183,
   "id": "0d9bad32",
   "metadata": {},
   "outputs": [],
   "source": [
    "def image_array(imageNumber):\n",
    "\n",
    "    k, l, m = 50, 50, 3\n",
    "    matrix = [[[0 for x in range(m)] for y in range(l)] for z in range(k)]\n",
    "\n",
    "    j=0\n",
    "    for x in range(50):\n",
    "        for y in range(50):\n",
    "            for z in range(3):\n",
    "                matrix[x][y][z] = mat_contents['Train_coded'][imageNumber][j] \n",
    "                j += 1;    \n",
    "                \n",
    "    array_final = np.asarray(matrix)\n",
    "    return array_final"
   ]
  },
  {
   "cell_type": "code",
   "execution_count": 184,
   "id": "ae39d412",
   "metadata": {},
   "outputs": [],
   "source": [
    "def choose_image(imageNumber):\n",
    "\n",
    "    chosen_image_array = image_array(10)\n",
    "    chosen_image = Image.fromarray(chosen_image_array, 'RGB')\n",
    "    img_from_array.show()\n",
    "\n",
    "    return chosen_image"
   ]
  }
 ],
 "metadata": {
  "kernelspec": {
   "display_name": "Python 3",
   "language": "python",
   "name": "python3"
  },
  "language_info": {
   "codemirror_mode": {
    "name": "ipython",
    "version": 3
   },
   "file_extension": ".py",
   "mimetype": "text/x-python",
   "name": "python",
   "nbconvert_exporter": "python",
   "pygments_lexer": "ipython3",
   "version": "3.8.8"
  }
 },
 "nbformat": 4,
 "nbformat_minor": 5
}
