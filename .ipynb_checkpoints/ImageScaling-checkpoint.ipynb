{
 "cells": [
  {
   "cell_type": "code",
   "execution_count": 1,
   "id": "236726a7",
   "metadata": {},
   "outputs": [],
   "source": [
    "import numpy as np\n",
    "import cv2"
   ]
  },
  {
   "cell_type": "code",
   "execution_count": 31,
   "id": "1fa4d77a",
   "metadata": {
    "scrolled": true
   },
   "outputs": [
    {
     "name": "stdout",
     "output_type": "stream",
     "text": [
      "Resized Dimensions : 50x50\n",
      "filename:  AAAA1.jpg\n",
      "filename:  AAAA2.jpg\n",
      "filename:  AAAA3.jpg\n",
      "filename:  AAAA4.jpg\n",
      "filename:  AAAB1.jpg\n",
      "filename:  AAAB2.jpg\n",
      "filename:  AAAB3.jpg\n",
      "filename:  AAAB4.jpg\n",
      "filename:  AAAC1.jpg\n",
      "filename:  AAAC2.jpg\n",
      "filename:  AAAC3.jpg\n",
      "filename:  AAAC4.jpg\n",
      "filename:  AAAD1.jpg\n",
      "filename:  AAAD2.jpg\n",
      "filename:  AAAD3.jpg\n",
      "filename:  AAAD4.jpg\n",
      "filename:  AAAE1.jpg\n",
      "filename:  AAAE2.jpg\n",
      "filename:  AAAE3.jpg\n",
      "filename:  AAAE4.jpg\n",
      "filename:  AABA1.jpg\n",
      "filename:  AABA2.jpg\n",
      "filename:  AABA3.jpg\n",
      "filename:  AABA4.jpg\n",
      "filename:  AABB1.jpg\n",
      "filename:  AABB2.jpg\n",
      "filename:  AABB3.jpg\n",
      "filename:  AABB4.jpg\n",
      "filename:  AABC1.jpg\n",
      "filename:  AABC2.jpg\n",
      "filename:  AABC3.jpg\n",
      "filename:  AABC4.jpg\n",
      "filename:  AABD1.jpg\n",
      "filename:  AABD2.jpg\n"
     ]
    },
    {
     "ename": "KeyboardInterrupt",
     "evalue": "",
     "output_type": "error",
     "traceback": [
      "\u001b[1;31m---------------------------------------------------------------------------\u001b[0m",
      "\u001b[1;31mKeyboardInterrupt\u001b[0m                         Traceback (most recent call last)",
      "\u001b[1;32m<ipython-input-31-fde7d4e64a72>\u001b[0m in \u001b[0;36m<module>\u001b[1;34m\u001b[0m\n\u001b[0;32m     11\u001b[0m             \u001b[1;32mfor\u001b[0m \u001b[0md\u001b[0m \u001b[1;32min\u001b[0m \u001b[0mrange\u001b[0m\u001b[1;33m(\u001b[0m\u001b[0mlen\u001b[0m\u001b[1;33m(\u001b[0m\u001b[0malpha\u001b[0m\u001b[1;33m)\u001b[0m\u001b[1;33m)\u001b[0m\u001b[1;33m:\u001b[0m\u001b[1;33m\u001b[0m\u001b[1;33m\u001b[0m\u001b[0m\n\u001b[0;32m     12\u001b[0m                 \u001b[1;32mfor\u001b[0m \u001b[0mi\u001b[0m \u001b[1;32min\u001b[0m \u001b[0mrange\u001b[0m\u001b[1;33m(\u001b[0m\u001b[1;36m4\u001b[0m\u001b[1;33m)\u001b[0m\u001b[1;33m:\u001b[0m\u001b[1;33m\u001b[0m\u001b[1;33m\u001b[0m\u001b[0m\n\u001b[1;32m---> 13\u001b[1;33m                     \u001b[0mimg\u001b[0m \u001b[1;33m=\u001b[0m \u001b[0mcv2\u001b[0m\u001b[1;33m.\u001b[0m\u001b[0mimread\u001b[0m\u001b[1;33m(\u001b[0m\u001b[1;34m'../dataset/train_coded/train_coded/'\u001b[0m \u001b[1;33m+\u001b[0m \u001b[0malpha2\u001b[0m\u001b[1;33m[\u001b[0m\u001b[0ma\u001b[0m\u001b[1;33m]\u001b[0m \u001b[1;33m+\u001b[0m \u001b[0malpha\u001b[0m\u001b[1;33m[\u001b[0m\u001b[0mb\u001b[0m\u001b[1;33m]\u001b[0m \u001b[1;33m+\u001b[0m \u001b[0malpha\u001b[0m\u001b[1;33m[\u001b[0m\u001b[0mc\u001b[0m\u001b[1;33m]\u001b[0m\u001b[1;33m+\u001b[0m \u001b[0malpha\u001b[0m\u001b[1;33m[\u001b[0m\u001b[0md\u001b[0m\u001b[1;33m]\u001b[0m \u001b[1;33m+\u001b[0m \u001b[0mstr\u001b[0m\u001b[1;33m(\u001b[0m\u001b[0mi\u001b[0m\u001b[1;33m+\u001b[0m\u001b[1;36m1\u001b[0m\u001b[1;33m)\u001b[0m \u001b[1;33m+\u001b[0m\u001b[1;34m'.jpg'\u001b[0m\u001b[1;33m,\u001b[0m \u001b[1;36m1\u001b[0m\u001b[1;33m)\u001b[0m\u001b[1;33m\u001b[0m\u001b[1;33m\u001b[0m\u001b[0m\n\u001b[0m\u001b[0;32m     14\u001b[0m                     \u001b[1;31m#cv2.imshow('Original', img)\u001b[0m\u001b[1;33m\u001b[0m\u001b[1;33m\u001b[0m\u001b[1;33m\u001b[0m\u001b[0m\n\u001b[0;32m     15\u001b[0m                     \u001b[1;31m#print('Original Dimensions : ', img.shape)\u001b[0m\u001b[1;33m\u001b[0m\u001b[1;33m\u001b[0m\u001b[1;33m\u001b[0m\u001b[0m\n",
      "\u001b[1;31mKeyboardInterrupt\u001b[0m: "
     ]
    }
   ],
   "source": [
    "alpha = ['A','B','C','D','E']\n",
    "alpha2 = ['A','B','C','D','E','F','G','H','I','J','K','L','M']\n",
    "\n",
    "width = 50\n",
    "height = 50\n",
    "print( 'Resized Dimensions : ' + str(width) + 'x' + str(height) ) \n",
    "\n",
    "for a in range(len(alpha2)):\n",
    "    for b in range(len(alpha)):\n",
    "        for c in range(len(alpha)):\n",
    "            for d in range(len(alpha)):        \n",
    "                for i in range(4):\n",
    "                    img = cv2.imread('../dataset/train_coded/train_coded/' + alpha2[a] + alpha[b] + alpha[c]+ alpha[d] + str(i+1) +'.jpg', 1)\n",
    "                    #cv2.imshow('Original', img)\n",
    "                    #print('Original Dimensions : ', img.shape)\n",
    "\n",
    "                    resized_img = cv2.resize(img, (50,50), interpolation = cv2.INTER_AREA)\n",
    "\n",
    "                   # cv2.imshow(\"Resized image\", resized)\n",
    "                   # cv2.waitKey(0)\n",
    "                   # cv2.destroyAllWindows()\n",
    "\n",
    "                    filename = alpha2[a] + alpha[b] + alpha[c]+ alpha[d] + str(i+1) +'.jpg'\n",
    "                    print('filename: ', filename)\n",
    "\n",
    "\n",
    "                    cv2.imwrite(filename, resized_img)"
   ]
  },
  {
   "cell_type": "code",
   "execution_count": 40,
   "id": "6fe3ba69",
   "metadata": {},
   "outputs": [],
   "source": [
    "from PIL import Image\n",
    "import csv"
   ]
  },
  {
   "cell_type": "code",
   "execution_count": 41,
   "id": "5f03d70e",
   "metadata": {},
   "outputs": [
    {
     "name": "stdout",
     "output_type": "stream",
     "text": [
      "[[[163 165 164]\n",
      "  [163 165 164]\n",
      "  [162 164 163]\n",
      "  ...\n",
      "  [165 165 165]\n",
      "  [166 166 166]\n",
      "  [166 166 166]]\n",
      "\n",
      " [[163 165 164]\n",
      "  [162 164 163]\n",
      "  [162 164 163]\n",
      "  ...\n",
      "  [166 166 166]\n",
      "  [166 166 166]\n",
      "  [166 166 166]]\n",
      "\n",
      " [[162 164 163]\n",
      "  [162 164 163]\n",
      "  [163 163 163]\n",
      "  ...\n",
      "  [166 166 166]\n",
      "  [165 165 165]\n",
      "  [165 165 165]]\n",
      "\n",
      " ...\n",
      "\n",
      " [[154 154 154]\n",
      "  [154 154 154]\n",
      "  [155 155 155]\n",
      "  ...\n",
      "  [159 159 157]\n",
      "  [160 160 160]\n",
      "  [160 160 160]]\n",
      "\n",
      " [[154 154 154]\n",
      "  [154 154 154]\n",
      "  [154 154 154]\n",
      "  ...\n",
      "  [159 159 159]\n",
      "  [159 159 159]\n",
      "  [159 159 159]]\n",
      "\n",
      " [[153 153 153]\n",
      "  [153 153 153]\n",
      "  [154 154 154]\n",
      "  ...\n",
      "  [159 159 159]\n",
      "  [159 159 159]\n",
      "  [159 159 159]]]\n"
     ]
    }
   ],
   "source": [
    "csv_file =  open(\"test.csv\", 'w')\n",
    "\n",
    "csv_writer = csv.writer(csv_file, delimiter=\",\")\n",
    "\n",
    "rescaled_img = Image.open('AAAA1.jpg')\n",
    "arr = np.array(rescaled_img) # 50x50x4 array\n",
    "\n",
    "print(arr)\n",
    "\n",
    "for row in arr:\n",
    "    csv_writer.writerow(row)\n",
    "\n",
    "csv_file.close()"
   ]
  },
  {
   "cell_type": "code",
   "execution_count": null,
   "id": "1e3ae077",
   "metadata": {},
   "outputs": [],
   "source": []
  }
 ],
 "metadata": {
  "kernelspec": {
   "display_name": "Python 3",
   "language": "python",
   "name": "python3"
  },
  "language_info": {
   "codemirror_mode": {
    "name": "ipython",
    "version": 3
   },
   "file_extension": ".py",
   "mimetype": "text/x-python",
   "name": "python",
   "nbconvert_exporter": "python",
   "pygments_lexer": "ipython3",
   "version": "3.8.8"
  }
 },
 "nbformat": 4,
 "nbformat_minor": 5
}
