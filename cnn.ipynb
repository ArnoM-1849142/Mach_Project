{
 "cells": [
  {
   "cell_type": "markdown",
   "metadata": {
    "id": "x4HI2mpwlrcn"
   },
   "source": [
    "##### Copyright 2019 The TensorFlow Authors."
   ]
  },
  {
   "cell_type": "markdown",
   "metadata": {
    "id": "DSPCom-KmApV"
   },
   "source": [
    "# Convolutional Neural Network (CNN)"
   ]
  },
  {
   "cell_type": "markdown",
   "metadata": {
    "id": "m7KBpffWzlxH"
   },
   "source": [
    "### Import TensorFlow"
   ]
  },
  {
   "cell_type": "code",
   "execution_count": null,
   "metadata": {
    "execution": {
     "iopub.execute_input": "2021-06-16T19:23:05.739889Z",
     "iopub.status.busy": "2021-06-16T19:23:05.739316Z",
     "iopub.status.idle": "2021-06-16T19:23:07.333947Z",
     "shell.execute_reply": "2021-06-16T19:23:07.333420Z"
    },
    "id": "iAve6DCL4JH4"
   },
   "outputs": [],
   "source": [
    "import os\n",
    "import tensorflow as tf\n",
    "\n",
    "from tensorflow.keras import datasets, layers, models, regularizers\n",
    "import matplotlib.pyplot as plt\n",
    "\n",
    "import numpy as np\n",
    "\n",
    "# custom made functions for this Machine Learning dataset\n",
    "import customUtils as cu\n",
    "\n",
    "# used for importing/exporting matlab data\n",
    "from scipy.io import savemat\n",
    "from scipy.io import loadmat"
   ]
  },
  {
   "cell_type": "markdown",
   "metadata": {},
   "source": [
    "### disable GPU in case of errors"
   ]
  },
  {
   "cell_type": "code",
   "execution_count": null,
   "metadata": {},
   "outputs": [],
   "source": [
    "os.environ['CUDA_VISIBLE_DEVICES'] = '-1'"
   ]
  },
  {
   "cell_type": "markdown",
   "metadata": {},
   "source": [
    "## setup gpu if present"
   ]
  },
  {
   "cell_type": "code",
   "execution_count": null,
   "metadata": {},
   "outputs": [],
   "source": [
    "print(\"Num GPUs Available: \", len(tf.config.list_physical_devices('GPU')))"
   ]
  },
  {
   "cell_type": "markdown",
   "metadata": {
    "id": "jRFxccghyMVo"
   },
   "source": [
    "### Preparing the dataset"
   ]
  },
  {
   "cell_type": "code",
   "execution_count": null,
   "metadata": {},
   "outputs": [],
   "source": [
    "#import train data and correctly format images and labels for tensorflow\n",
    "X, y_vec = cu.importImageTrainDataFromMatlab('dataset.mat', data_size=6500)\n",
    "X = X / 255.0\n",
    "train_images = np.reshape(X,(X.shape[0], 50, 50, 3))\n",
    "y = np.zeros(y_vec.shape[0])\n",
    "for j in range(y.shape[0]):\n",
    "    y[j] = np.where(y_vec[j,:] == 1)[0][0]\n",
    "train_labels = y.reshape(y.shape[0],1).astype(int)\n",
    "\n",
    "X_test, y_test_vec = cu.importImageTestDataFromMatlab('dataset.mat', data_size=1625)\n",
    "X_test = X_test / 255.0\n",
    "test_images = np.reshape(X_test,(X_test.shape[0], 50, 50, 3))\n",
    "y_test = np.zeros(y_test_vec.shape[0])\n",
    "for j in range(y_test.shape[0]):\n",
    "    y_test[j] = np.where(y_test_vec[j,:] == 1)[0][0]\n",
    "test_labels = y_test.reshape(y_test.shape[0],1).astype(int)"
   ]
  },
  {
   "cell_type": "markdown",
   "metadata": {
    "id": "7wArwCTJJlUa"
   },
   "source": [
    "### Verify the data\n",
    "\n",
    "To verify that the dataset looks correct, let's plot the first image from every PCB class from the training set and display the class name below each image:\n"
   ]
  },
  {
   "cell_type": "code",
   "execution_count": null,
   "metadata": {
    "execution": {
     "iopub.execute_input": "2021-06-16T19:23:21.646002Z",
     "iopub.status.busy": "2021-06-16T19:23:21.634464Z",
     "iopub.status.idle": "2021-06-16T19:23:22.508372Z",
     "shell.execute_reply": "2021-06-16T19:23:22.508750Z"
    },
    "id": "K3PAELE2eSU9"
   },
   "outputs": [],
   "source": [
    "class_names = ['Arduino Mega 2560 (Blue)', 'Arduino Mega 2560 (Black)', 'Arduino Mega 2560 (Black and Yellow)',\n",
    "               'Arduino Due','Beaglebone Black', 'Arduino Uno (Green)', 'Raspberry Pi 3 B+', 'Raspberry Pi 1 B+',\n",
    "               'Arduino Uno Camera Shield', 'Arduino Uno (Black)', 'Arduino Uno WiFi Shield', 'Arduino Leonardo', 'Raspberry Pi A+']\n",
    "\n",
    "plt.figure(figsize=(22,5))\n",
    "for i in range(13):\n",
    "    plt.subplot(2,7,i+1)\n",
    "    plt.xticks([])\n",
    "    plt.yticks([])\n",
    "    plt.grid(False)\n",
    "    plt.imshow(train_images[i*500])\n",
    "    plt.xlabel(class_names[train_labels[i*500][0]])\n",
    "plt.show()"
   ]
  },
  {
   "cell_type": "markdown",
   "metadata": {
    "id": "Oewp-wYg31t9"
   },
   "source": [
    "### Create the convolutional base"
   ]
  },
  {
   "cell_type": "markdown",
   "metadata": {
    "id": "3hQvqXpNyN3x"
   },
   "source": [
    "As input, a CNN takes tensors of shape (image_height, image_width, color_channels), ignoring the batch size. If you are new to these dimensions, color_channels refers to (R,G,B). In this example, you will configure your CNN to process inputs of shape (32, 32, 3), which is the format of CIFAR images. You can do this by passing the argument `input_shape` to your first layer.\n"
   ]
  },
  {
   "cell_type": "code",
   "execution_count": null,
   "metadata": {
    "execution": {
     "iopub.execute_input": "2021-06-16T19:23:22.515205Z",
     "iopub.status.busy": "2021-06-16T19:23:22.513340Z",
     "iopub.status.idle": "2021-06-16T19:23:24.063248Z",
     "shell.execute_reply": "2021-06-16T19:23:24.063655Z"
    },
    "id": "L9YmGQBQPrdn"
   },
   "outputs": [],
   "source": [
    "HLS=10\n",
    "model = models.Sequential()\n",
    "model.add(layers.Conv2D(32, (3, 3), activation='relu', input_shape=(50, 50, 3)))\n",
    "model.add(layers.MaxPooling2D((2, 2)))\n",
    "model.add(layers.Conv2D(64, (3, 3), activation='relu'))\n",
    "model.add(layers.MaxPooling2D((2, 2)))\n",
    "model.add(layers.Conv2D(64, (3, 3), activation='relu'))\n",
    "# Dense part of the NN\n",
    "model.add(layers.Flatten())\n",
    "model.add(layers.Dense(HLS, activation='sigmoid'))\n",
    "model.add(layers.Dense(13))"
   ]
  },
  {
   "cell_type": "markdown",
   "metadata": {
    "id": "ipGiQMcR4Gtq"
   },
   "source": [
    "Here's the complete architecture of your model:"
   ]
  },
  {
   "cell_type": "code",
   "execution_count": null,
   "metadata": {
    "execution": {
     "iopub.execute_input": "2021-06-16T19:23:24.194251Z",
     "iopub.status.busy": "2021-06-16T19:23:24.193601Z",
     "iopub.status.idle": "2021-06-16T19:23:24.207265Z",
     "shell.execute_reply": "2021-06-16T19:23:24.207628Z"
    },
    "id": "8Yu_m-TZUWGX"
   },
   "outputs": [],
   "source": [
    "model.summary()"
   ]
  },
  {
   "cell_type": "markdown",
   "metadata": {
    "id": "P3odqfHP4M67"
   },
   "source": [
    "### Compile and train the model"
   ]
  },
  {
   "cell_type": "code",
   "execution_count": null,
   "metadata": {
    "execution": {
     "iopub.execute_input": "2021-06-16T19:23:24.214990Z",
     "iopub.status.busy": "2021-06-16T19:23:24.214315Z",
     "iopub.status.idle": "2021-06-16T19:24:16.548993Z",
     "shell.execute_reply": "2021-06-16T19:24:16.549377Z"
    },
    "id": "MdDzI75PUXrG"
   },
   "outputs": [],
   "source": [
    "model.compile(optimizer='adam',\n",
    "              loss=tf.keras.losses.SparseCategoricalCrossentropy(from_logits=True),\n",
    "              metrics=['accuracy'])"
   ]
  },
  {
   "cell_type": "code",
   "execution_count": null,
   "metadata": {},
   "outputs": [],
   "source": [
    "history = model.fit(train_images, train_labels, epochs=5, \n",
    "                    validation_data=(test_images, test_labels))"
   ]
  },
  {
   "cell_type": "markdown",
   "metadata": {
    "id": "jKgyC5K_4O0d"
   },
   "source": [
    "### Evaluate the model"
   ]
  },
  {
   "cell_type": "code",
   "execution_count": null,
   "metadata": {
    "execution": {
     "iopub.execute_input": "2021-06-16T19:24:16.570144Z",
     "iopub.status.busy": "2021-06-16T19:24:16.564238Z",
     "iopub.status.idle": "2021-06-16T19:24:17.336817Z",
     "shell.execute_reply": "2021-06-16T19:24:17.337156Z"
    },
    "id": "gtyDF0MKUcM7"
   },
   "outputs": [],
   "source": [
    "plt.plot([elem*100 for elem in history.history['accuracy']], label='train accuracy', marker='o')\n",
    "plt.plot([elem*100 for elem in history.history['val_accuracy']], label = 'val accuracy', marker='o')\n",
    "plt.xlabel('Epoch')\n",
    "plt.ylabel('Accuracy')\n",
    "plt.ylim([50, 100])\n",
    "plt.legend(loc='lower right')\n",
    "\n",
    "test_loss, test_acc = model.evaluate(test_images,  test_labels, verbose=2)"
   ]
  },
  {
   "cell_type": "code",
   "execution_count": null,
   "metadata": {
    "execution": {
     "iopub.execute_input": "2021-06-16T19:24:17.340860Z",
     "iopub.status.busy": "2021-06-16T19:24:17.340298Z",
     "iopub.status.idle": "2021-06-16T19:24:17.342237Z",
     "shell.execute_reply": "2021-06-16T19:24:17.342607Z"
    },
    "id": "0LvwaKhtUdOo"
   },
   "outputs": [],
   "source": [
    "print(test_acc)"
   ]
  },
  {
   "cell_type": "code",
   "execution_count": null,
   "metadata": {},
   "outputs": [],
   "source": [
    "model.save('CNNmodels/CNNmodelHLS' + str(HLS))"
   ]
  }
 ],
 "metadata": {
  "accelerator": "GPU",
  "colab": {
   "collapsed_sections": [],
   "name": "cnn.ipynb",
   "toc_visible": true
  },
  "kernelspec": {
   "display_name": "Python 3",
   "language": "python",
   "name": "python3"
  },
  "language_info": {
   "codemirror_mode": {
    "name": "ipython",
    "version": 3
   },
   "file_extension": ".py",
   "mimetype": "text/x-python",
   "name": "python",
   "nbconvert_exporter": "python",
   "pygments_lexer": "ipython3",
   "version": "3.9.7"
  }
 },
 "nbformat": 4,
 "nbformat_minor": 1
}
